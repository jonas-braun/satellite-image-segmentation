{
 "cells": [
  {
   "cell_type": "code",
   "execution_count": 1,
   "metadata": {
    "collapsed": true
   },
   "outputs": [],
   "source": [
    "import numpy as np"
   ]
  },
  {
   "cell_type": "code",
   "execution_count": 2,
   "metadata": {
    "collapsed": false
   },
   "outputs": [],
   "source": [
    "\n",
    "RGB = [[[],[]],[[],[]],[[],[]]]\n",
    "\n",
    "with open('thresholds') as f:\n",
    "   \n",
    "    for line in f:\n",
    "        items = line.split(',')\n",
    "        filename = items[0]\n",
    "        data = ','.join(items[1:])\n",
    "        rgb = data.split(';')\n",
    "        for i, values in enumerate(rgb):\n",
    "            min_val, max_val = map(int, values.split(','))\n",
    "            RGB[i][0].append(min_val)\n",
    "            RGB[i][1].append(max_val)"
   ]
  },
  {
   "cell_type": "code",
   "execution_count": 9,
   "metadata": {
    "collapsed": false
   },
   "outputs": [
    {
     "name": "stdout",
     "output_type": "stream",
     "text": [
      "79.45\n",
      "550.55\n",
      "189.45\n",
      "592.0\n",
      "183.0\n",
      "451.55\n"
     ]
    }
   ],
   "source": [
    "for color in RGB:\n",
    "    min_vals, max_vals = color\n",
    "    #print(min(min_vals))\n",
    "    min_val = np.percentile(min_vals, 5.)\n",
    "    print(min_val)\n",
    "    #print(max(max_vals))\n",
    "    max_val = np.percentile(min_vals, 95.)\n",
    "    print(max_val)"
   ]
  },
  {
   "cell_type": "code",
   "execution_count": null,
   "metadata": {
    "collapsed": true
   },
   "outputs": [],
   "source": []
  }
 ],
 "metadata": {
  "kernelspec": {
   "display_name": "Python 3",
   "language": "python",
   "name": "python3"
  },
  "language_info": {
   "codemirror_mode": {
    "name": "ipython",
    "version": 3
   },
   "file_extension": ".py",
   "mimetype": "text/x-python",
   "name": "python",
   "nbconvert_exporter": "python",
   "pygments_lexer": "ipython3",
   "version": "3.4.3+"
  }
 },
 "nbformat": 4,
 "nbformat_minor": 0
}
